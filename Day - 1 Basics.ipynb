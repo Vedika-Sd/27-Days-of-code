{
 "cells": [
  {
   "cell_type": "markdown",
   "metadata": {},
   "source": [
    "### 27 Days of Code Challenge\n",
    "I am challenging myself to consistently code for 27 days in Python, covering from fundamentals to advanced topics, including problem-solving, key libraries, and machine learning concepts. This journey is designed to solidify my Python expertise while pushing my limits through hands-on coding and real-world applications."
   ]
  },
  {
   "cell_type": "markdown",
   "metadata": {},
   "source": [
    "## Day-1 : Basics"
   ]
  },
  {
   "cell_type": "code",
   "execution_count": 1,
   "metadata": {},
   "outputs": [
    {
     "name": "stdout",
     "output_type": "stream",
     "text": [
      "Hello, World! Welcome to 27 days of code\n"
     ]
    }
   ],
   "source": [
    "#1.Print \"Hello, World!\n",
    "print(\"Hello, World! Welcome to 27 days of code\")"
   ]
  },
  {
   "cell_type": "code",
   "execution_count": null,
   "metadata": {},
   "outputs": [
    {
     "name": "stdout",
     "output_type": "stream",
     "text": [
      "Hello\n",
      "Hello\n",
      "Hello\n",
      "Hello\n",
      "Hello\n",
      "\n"
     ]
    }
   ],
   "source": [
    "#2.print Hello 5 times\n",
    "print(\"Hello\\n\" * 5)  #python supports multiplication of strings"
   ]
  },
  {
   "cell_type": "code",
   "execution_count": null,
   "metadata": {},
   "outputs": [
    {
     "name": "stdout",
     "output_type": "stream",
     "text": [
      "After Swapping a = 15 b = 5\n"
     ]
    }
   ],
   "source": [
    "#3.Swap Two Numbers Without a Third Variable\n",
    "a = 5\n",
    "b = 15\n",
    "\n",
    "a, b = b, a\n",
    "print(\"After Swapping a =\", a, \"b =\", b)"
   ]
  },
  {
   "cell_type": "code",
   "execution_count": 23,
   "metadata": {},
   "outputs": [
    {
     "name": "stdout",
     "output_type": "stream",
     "text": [
      "The area of the circle is 28.274\n"
     ]
    }
   ],
   "source": [
    "#4.Calculate the Area of a Circle\n",
    "import math\n",
    "radius = int(input(\"Enter the radius of the circle: \"))\n",
    "area = math.pi * radius ** 2\n",
    "print(\"The area of the circle is\", f\"{area:.3f}\")"
   ]
  },
  {
   "cell_type": "code",
   "execution_count": null,
   "metadata": {},
   "outputs": [
    {
     "name": "stdout",
     "output_type": "stream",
     "text": [
      "The average of the three numbers is 24.333\n"
     ]
    }
   ],
   "source": [
    "#5.Find the Average of Three Numbers\n",
    "num1 = float(input(\"Enter first number: \"))\n",
    "num2 = float(input(\"Enter second number: \"))\n",
    "num3 = float(input(\"Enter third number: \"))\n",
    "average = (num1 + num2 + num3) / 3\n",
    "print(f\"Average = {average:.2f}\")\n"
   ]
  },
  {
   "cell_type": "code",
   "execution_count": 8,
   "metadata": {},
   "outputs": [
    {
     "name": "stdout",
     "output_type": "stream",
     "text": [
      "The number is even\n"
     ]
    }
   ],
   "source": [
    "#6. Check Whether a Number is Even or Odd\n",
    "num = int(input(\"Enter a number: \"))\n",
    "if num % 2 == 0:\n",
    "    print(\"The number is even\")\n",
    "else:\n",
    "    print(\"The number is odd\")"
   ]
  },
  {
   "cell_type": "code",
   "execution_count": 9,
   "metadata": {},
   "outputs": [
    {
     "name": "stdout",
     "output_type": "stream",
     "text": [
      "The character is a consonant\n"
     ]
    }
   ],
   "source": [
    "#7. Check Whether a Character is a Vowel or Consonant\n",
    "char = input(\"Enter a character: \")\n",
    "if char in \"aeiouAEIOU\":\n",
    "    print(\"The character is a vowel\")\n",
    "else:\n",
    "    print(\"The character is a consonant\")"
   ]
  },
  {
   "cell_type": "code",
   "execution_count": 17,
   "metadata": {},
   "outputs": [
    {
     "name": "stdout",
     "output_type": "stream",
     "text": [
      "Factorial of 4 = 24\n"
     ]
    }
   ],
   "source": [
    "#8. Find the Factorial of a Number\n",
    "#(a)using for loop\n",
    "num = int(input(\"Enter a number: \"))\n",
    "fact = 1\n",
    "for i in range(1,num+1):\n",
    "    fact*=i\n",
    "print(f\"Factorial of {num} = {fact}\")\n"
   ]
  },
  {
   "cell_type": "code",
   "execution_count": 21,
   "metadata": {},
   "outputs": [
    {
     "name": "stdout",
     "output_type": "stream",
     "text": [
      "Factorial of 3 = 6\n"
     ]
    }
   ],
   "source": [
    "#(b)using recursion\n",
    "n = int(input(\"Enter a number: \"))\n",
    "\n",
    "def factorial(n):\n",
    "    if n == 0:\n",
    "        return 1\n",
    "    return n * factorial(n-1)\n",
    "\n",
    "print(f\"Factorial of {n} = {factorial(n)}\")"
   ]
  },
  {
   "cell_type": "code",
   "execution_count": 19,
   "metadata": {},
   "outputs": [
    {
     "name": "stdout",
     "output_type": "stream",
     "text": [
      "Largest number is 25\n"
     ]
    }
   ],
   "source": [
    "#9.Find the Largest Among five Numbers\n",
    "for i in range(5):\n",
    "    num = int(input(\"Enter number:\"))\n",
    "    if i == 0:\n",
    "        largest = num\n",
    "    else:\n",
    "        if num > largest:\n",
    "            largest = num\n",
    "\n",
    "print(f\"Largest number is {largest}\")\n"
   ]
  },
  {
   "cell_type": "code",
   "execution_count": null,
   "metadata": {},
   "outputs": [
    {
     "name": "stdout",
     "output_type": "stream",
     "text": [
      "25.0 + 22.0 = 47.0\n"
     ]
    }
   ],
   "source": [
    "#10.Simple Calculator (Addition, Subtraction, Multiplication, Division, Modulus)\n",
    "input1 = float(input(\"Enter first number: \"))\n",
    "input2 = float(input(\"Enter second number: \"))\n",
    "operation = input(\"Enter operation (+, -, *, /, %): \")\n",
    "\n",
    "match(operation):\n",
    "    case \"+\":\n",
    "        print(f\"{input1} + {input2} = {input1 + input2}\")\n",
    "    case \"-\":\n",
    "        print(f\"{input1} + {input2} = {input1 - input2}\")\n",
    "    case \"*\":\n",
    "        print(f\"{input1} + {input2} = {input1 * input2}\")\n",
    "    case \"/\":\n",
    "        if input2 == 0:\n",
    "            print(\"Division by zero is not allowed\")\n",
    "        else:\n",
    "            print(f\"{input1} + {input2} = {input1 / input2}\")\n",
    "    case \"%\":\n",
    "        print(f\"{input1} + {input2} = {input1 % input2}\")\n"
   ]
  },
  {
   "cell_type": "code",
   "execution_count": 25,
   "metadata": {},
   "outputs": [
    {
     "name": "stdout",
     "output_type": "stream",
     "text": [
      "5 x 1 = 5\n",
      "5 x 2 = 10\n",
      "5 x 3 = 15\n",
      "5 x 4 = 20\n",
      "5 x 5 = 25\n",
      "5 x 6 = 30\n",
      "5 x 7 = 35\n",
      "5 x 8 = 40\n",
      "5 x 9 = 45\n",
      "5 x 10 = 50\n"
     ]
    }
   ],
   "source": [
    "#11. Print Multiplication Table of a Number\n",
    "number = int(input(\"Enter a number: \"))\n",
    "for i in range(1, 11):\n",
    "    print(f\"{number} x {i} = {number * i}\")"
   ]
  },
  {
   "cell_type": "code",
   "execution_count": 27,
   "metadata": {},
   "outputs": [
    {
     "name": "stdout",
     "output_type": "stream",
     "text": [
      "4 x 1 = 4\n",
      "4 x 2 = 8\n",
      "4 x 3 = 12\n",
      "4 x 4 = 16\n",
      "4 x 5 = 20\n",
      "4 x 6 = 24\n",
      "4 x 7 = 28\n",
      "4 x 8 = 32\n",
      "4 x 9 = 36\n",
      "4 x 10 = 40\n"
     ]
    }
   ],
   "source": [
    "#print table using while loop\n",
    "number = int(input(\"Enter a number: \"))\n",
    "i = 1\n",
    "while i>0 and i<11:\n",
    "    print(number, 'x', i , '=', number*i)\n",
    "    i+=1"
   ]
  },
  {
   "cell_type": "code",
   "execution_count": 28,
   "metadata": {},
   "outputs": [
    {
     "name": "stdout",
     "output_type": "stream",
     "text": [
      "Sum of digits =  8\n"
     ]
    }
   ],
   "source": [
    "#12.Find the Sum of Digits of a Number\n",
    "num = int(input(\"Enter a number: \"))\n",
    "sum = 0\n",
    "while num > 0:\n",
    "    sum = sum + num%10\n",
    "    num = num // 10\n",
    "print(\"Sum of digits = \", sum)"
   ]
  },
  {
   "cell_type": "code",
   "execution_count": null,
   "metadata": {},
   "outputs": [
    {
     "name": "stdout",
     "output_type": "stream",
     "text": [
      "Reverse of the number =  321\n"
     ]
    }
   ],
   "source": [
    "#13. Reverse a Number\n",
    "num = int(input(\"Enter a number: \"))\n",
    "rev = 0\n",
    "while num > 0:\n",
    "    digit = num %10\n",
    "    rev = rev*10 + digit\n",
    "    num = num // 10\n",
    "print(\"Reverse of the number = \", rev)"
   ]
  }
 ],
 "metadata": {
  "kernelspec": {
   "display_name": "Python 3",
   "language": "python",
   "name": "python3"
  },
  "language_info": {
   "codemirror_mode": {
    "name": "ipython",
    "version": 3
   },
   "file_extension": ".py",
   "mimetype": "text/x-python",
   "name": "python",
   "nbconvert_exporter": "python",
   "pygments_lexer": "ipython3",
   "version": "3.12.0"
  }
 },
 "nbformat": 4,
 "nbformat_minor": 2
}
